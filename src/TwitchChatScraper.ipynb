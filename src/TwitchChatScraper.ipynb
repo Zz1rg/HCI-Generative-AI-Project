{
 "cells": [
  {
   "cell_type": "code",
   "execution_count": 21,
   "id": "4ba72875",
   "metadata": {},
   "outputs": [],
   "source": [
    "import websockets\n",
    "import pandas as pd\n",
    "\n"
   ]
  },
  {
   "cell_type": "code",
   "execution_count": 22,
   "id": "4a5a4ebe",
   "metadata": {},
   "outputs": [],
   "source": [
    "channels = pd.read_csv(\"channels_by_category.csv\")\n",
    "n_messages = 10 # number of messages to scrape\n",
    "# n_channels = len(channels)\n",
    "n_channels = 5 # for testing, limit to first 5 channels\n",
    "channels = channels.head(n_channels)"
   ]
  },
  {
   "cell_type": "code",
   "execution_count": 23,
   "id": "bc19160a",
   "metadata": {},
   "outputs": [],
   "source": [
    "async def twitch_chat_scraper(channel, n_messages):\n",
    "    uri = \"wss://irc-ws.chat.twitch.tv/\"\n",
    "    messages = []\n",
    "    async with websockets.connect(uri) as websocket:\n",
    "        await websocket.send(\"PASS SCHMOOPIIE\\r\\n\")\n",
    "        await websocket.send(\"NICK justinfan26589\\r\\n\")\n",
    "        await websocket.send(f\"JOIN #{channel}\\r\\n\")\n",
    "        print(f\"Connected and joined #{channel}. Listening for messages...\")\n",
    "        while True:\n",
    "            try:\n",
    "                if len(messages) >= n_messages:\n",
    "                    df = pd.DataFrame({'message': messages})\n",
    "                    df.to_csv(f\"{channel}_chat_messages.csv\", index=False)\n",
    "                    break\n",
    "                message = await websocket.recv()\n",
    "                if \"PRIVMSG\" in message:\n",
    "                    parts = message.split(\"PRIVMSG\", 1)\n",
    "                    if len(parts) > 1:\n",
    "                        msg_text = parts[1].split(\":\", 1)[-1].strip()\n",
    "                        print(msg_text)\n",
    "                        messages.append(msg_text)\n",
    "            except Exception as e:\n",
    "                print(f\"Error: {e}\")\n",
    "                break\n"
   ]
  },
  {
   "cell_type": "code",
   "execution_count": 24,
   "id": "91e2d95a",
   "metadata": {},
   "outputs": [
    {
     "name": "stdout",
     "output_type": "stream",
     "text": [
      "Scraping chat messages from channel: kaicenat\n",
      "Connected and joined #kaicenat. Listening for messages...\n",
      "You sleep great when your day is productive\n",
      "🤣🤣\n",
      "you would wake up and be in the shark’s stomach\n",
      "SeemsGood Kreygasm ResidentSleeper WutFace BigSad NotLikeThis LUL <3 HeyGuys WutFace LUL Kreygasm NotLikeThis Kreygasm NotLikeThis Kappa Kreygasm HeyGuys BigSad VoHiYo BigSad <3 ResidentSleeper Kreygasm HeyGuys LUL WutFace Kappa ResidentSleeper BigSad NotLikeThis BigSad <3 Kreygasm Kappa HeyGuys SeemsGood LUL WutFace <3 ResidentSleeper Kreygasm HeyGuys BigSad NotLikeThis BigSad LUL ResidentSleeper Kappa Kreygasm SeemsGood\n",
      "W RAKAI.... #1 RAGE BAITER #UNDEFEATED\n",
      "8 hours til mafiathon over ggs\n",
      "!watchtime\n",
      "@KingV916 KingV916 has spent 1 month and 6 days in online chat.\n",
      "team cry baby Dez 😭😭😭😭😭😭😭😭😭😭😭😭\n",
      "deshae content is funny asl folks not tryna to get wet💀😂😂\n",
      "Scraping chat messages from channel: cdawg\n",
      "Connected and joined #cdawg. Listening for messages...\n",
      "Susge The mods are in cahoots with the clankers\n",
      "need another diversion nuke\n",
      "janky is the word of the day\n",
      "is breaking no toolbar\n",
      "my timer is going up MONKA\n",
      "@spoog2859 Thanks\n",
      "mine crashed, have to refresh\n",
      "my toolbox disappeared\n",
      "The server is rolling back again, it's so Joever\n",
      "NotLikeThis\n",
      "Scraping chat messages from channel: ishowspeed\n",
      "Connected and joined #ishowspeed. Listening for messages...\n",
      "@9tux you still live with your parents dont you?\n",
      "@CallMeBlazX LUL LUL\n",
      "yamayaLove yamayaLove yamayaLove yamayaLove\n",
      "who in dallas\n",
      "@bigsqueeze77 owww\n",
      "JAMAL VAPE\n",
      "me\n",
      "love speed but it just doesn’t make since\n",
      "@sb_russ don’t get aggressive chill gang\n",
      "but fr though is speed coming to Dallas\n",
      "Scraping chat messages from channel: midnightsumo\n",
      "Connected and joined #midnightsumo. Listening for messages...\n",
      "ty\n",
      "I was just reading about the time Nobby went to Klatch.\n",
      "Cool-sano!!\n",
      "two of my KC picks going up against one another ughhh ok at least i get a point out of it\n",
      "kusano gain some weight from last basho .\n",
      "midnig380Left midnig380ADHDCAT midnig380Right\n",
      "wow that was great translation how long you known Japanese?\n",
      "Lets get it Yammers\n",
      "Maegashira #6 Kusano (0-1) vs Maegashira #5 Ichiyamamoto (0-1)\n",
      "@Sentient_Pickle Agile, humble, hits like a brisk walk off the end of a pier..\n",
      "Scraping chat messages from channel: arky\n",
      "Connected and joined #arky. Listening for messages...\n",
      "KAI ASKED FOR U\n",
      "aga\n",
      "!schedule\n",
      "➤ tinyurl.com/ArkyCalendar\n",
      "why he sound so SAJ\n",
      "mhm ͏\n",
      "Kai asked for you\n",
      "he stopped for a reason that shit didn’t work out\n",
      "ngl gng\n",
      "muggy does it\n"
     ]
    }
   ],
   "source": [
    "for channel in channels['channelId']:\n",
    "    print(f\"Scraping chat messages from channel: {channel}\")\n",
    "    await twitch_chat_scraper(channel, n_messages)"
   ]
  }
 ],
 "metadata": {
  "kernelspec": {
   "display_name": "Python 3",
   "language": "python",
   "name": "python3"
  },
  "language_info": {
   "codemirror_mode": {
    "name": "ipython",
    "version": 3
   },
   "file_extension": ".py",
   "mimetype": "text/x-python",
   "name": "python",
   "nbconvert_exporter": "python",
   "pygments_lexer": "ipython3",
   "version": "3.13.7"
  }
 },
 "nbformat": 4,
 "nbformat_minor": 5
}
