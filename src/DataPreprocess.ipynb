{
 "cells": [
  {
   "cell_type": "code",
   "execution_count": 1,
   "id": "f3745033",
   "metadata": {},
   "outputs": [],
   "source": [
    "import pandas as pd"
   ]
  },
  {
   "cell_type": "code",
   "execution_count": 2,
   "id": "f7e8ea0e",
   "metadata": {},
   "outputs": [],
   "source": [
    "df = pd.read_csv('../Data/hate_speech_and_offensive_language_dataset/labeled_data.csv')"
   ]
  },
  {
   "cell_type": "code",
   "execution_count": 3,
   "id": "22a17344",
   "metadata": {},
   "outputs": [],
   "source": [
    "keep_cols = ['tweet', 'class']\n",
    "df = df[keep_cols]\n",
    "df = df.rename(columns={'tweet': 'message', 'class': 'label'})\n",
    "df['label'] = df['label'].apply(lambda x: 0 if x == 2 else 1)"
   ]
  },
  {
   "cell_type": "code",
   "execution_count": 8,
   "id": "9b898ce1",
   "metadata": {},
   "outputs": [
    {
     "data": {
      "text/plain": [
       "label\n",
       "1    4788\n",
       "0    1066\n",
       "Name: count, dtype: int64"
      ]
     },
     "execution_count": 8,
     "metadata": {},
     "output_type": "execute_result"
    }
   ],
   "source": [
    "df['label'].value_counts()"
   ]
  },
  {
   "cell_type": "code",
   "execution_count": 7,
   "id": "38d4ad41",
   "metadata": {
    "vscode": {
     "languageId": "javascript"
    }
   },
   "outputs": [],
   "source": [
    "label_0_count = 1066\n",
    "label_1_count_to_keep = 4788\n",
    "\n",
    "df_label_0 = df[df['label'] == 0].sample(n=label_0_count, random_state=42)\n",
    "df_label_1 = df[df['label'] == 1].sample(n=label_1_count_to_keep, random_state=42)\n",
    "\n",
    "df = pd.concat([df_label_0, df_label_1]).reset_index(drop=True)"
   ]
  },
  {
   "cell_type": "code",
   "execution_count": 10,
   "id": "c0f0c556",
   "metadata": {},
   "outputs": [],
   "source": [
    "df.to_csv('../Data/hate_speech_and_offensive_language_dataset/processed_labeled_data.csv', index=False)"
   ]
  },
  {
   "cell_type": "code",
   "execution_count": 11,
   "id": "0a4cd598",
   "metadata": {},
   "outputs": [
    {
     "data": {
      "text/plain": [
       "label\n",
       "1    4788\n",
       "0    1066\n",
       "Name: count, dtype: int64"
      ]
     },
     "execution_count": 11,
     "metadata": {},
     "output_type": "execute_result"
    }
   ],
   "source": [
    "test = pd.read_csv('../Data/hate_speech_and_offensive_language_dataset/processed_labeled_data.csv')\n",
    "test['label'].value_counts()"
   ]
  }
 ],
 "metadata": {
  "kernelspec": {
   "display_name": "bert_venv (3.13.3)",
   "language": "python",
   "name": "python3"
  },
  "language_info": {
   "codemirror_mode": {
    "name": "ipython",
    "version": 3
   },
   "file_extension": ".py",
   "mimetype": "text/x-python",
   "name": "python",
   "nbconvert_exporter": "python",
   "pygments_lexer": "ipython3",
   "version": "3.13.3"
  }
 },
 "nbformat": 4,
 "nbformat_minor": 5
}
