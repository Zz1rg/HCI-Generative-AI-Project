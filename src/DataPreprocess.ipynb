{
 "cells": [
  {
   "cell_type": "code",
   "execution_count": 1,
   "id": "f3745033",
   "metadata": {},
   "outputs": [],
   "source": [
    "import pandas as pd"
   ]
  },
  {
   "cell_type": "code",
   "execution_count": 16,
   "id": "f7e8ea0e",
   "metadata": {},
   "outputs": [],
   "source": [
    "df = pd.read_csv('../Data/hate_speech_and_offensive_language_dataset/labeled_data.csv')"
   ]
  },
  {
   "cell_type": "code",
   "execution_count": 17,
   "id": "22a17344",
   "metadata": {},
   "outputs": [],
   "source": [
    "keep_cols = ['tweet', 'class']\n",
    "df = df[keep_cols]\n",
    "df = df.rename(columns={'tweet': 'message', 'class': 'labels'})\n",
    "df['labels'] = df['labels'].apply(lambda x: 0 if x == 2 else 1)"
   ]
  },
  {
   "cell_type": "code",
   "execution_count": 18,
   "id": "38d4ad41",
   "metadata": {
    "vscode": {
     "languageId": "javascript"
    }
   },
   "outputs": [],
   "source": [
    "label_0_count = int(df[df['labels'] == 0].shape[0] / 2)\n",
    "label_1_count_to_keep = 2 * label_0_count\n",
    "\n",
    "df_label_0 = df[df['labels'] == 0].sample(n=label_0_count, random_state=42)\n",
    "df_label_1 = df[df['labels'] == 1].sample(n=label_1_count_to_keep, random_state=42)\n",
    "\n",
    "df = pd.concat([df_label_0, df_label_1]).reset_index(drop=True)"
   ]
  },
  {
   "cell_type": "code",
   "execution_count": 20,
   "id": "c0f0c556",
   "metadata": {},
   "outputs": [],
   "source": [
    "df.to_csv('../Data/hate_speech_and_offensive_language_dataset/processed_labeled_data.csv', index=False)"
   ]
  }
 ],
 "metadata": {
  "kernelspec": {
   "display_name": "bert_venv (3.13.3)",
   "language": "python",
   "name": "python3"
  },
  "language_info": {
   "codemirror_mode": {
    "name": "ipython",
    "version": 3
   },
   "file_extension": ".py",
   "mimetype": "text/x-python",
   "name": "python",
   "nbconvert_exporter": "python",
   "pygments_lexer": "ipython3",
   "version": "3.13.3"
  }
 },
 "nbformat": 4,
 "nbformat_minor": 5
}
