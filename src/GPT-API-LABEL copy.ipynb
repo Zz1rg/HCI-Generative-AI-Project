{
 "cells": [
  {
   "cell_type": "code",
   "execution_count": 4,
   "id": "eb86bde5",
   "metadata": {},
   "outputs": [],
   "source": [
    "from openai import OpenAI\n",
    "import pandas as pd\n",
    "import json\n",
    "import ast\n",
    "from dotenv import load_dotenv\n",
    "from tqdm import tqdm\n",
    "import os\n",
    "\n",
    "load_dotenv()\n",
    "\n",
    "my_key = os.getenv(\"MY_API_KEY\")"
   ]
  },
  {
   "cell_type": "code",
   "execution_count": 5,
   "id": "c6129ab9",
   "metadata": {},
   "outputs": [],
   "source": [
    "client = OpenAI(api_key=my_key)"
   ]
  },
  {
   "cell_type": "code",
   "execution_count": 6,
   "id": "f7b5691a",
   "metadata": {},
   "outputs": [],
   "source": [
    "batch_size = 50   # how many rows per API call\n",
    "labels = []"
   ]
  },
  {
   "cell_type": "code",
   "execution_count": null,
   "id": "2eef1818",
   "metadata": {},
   "outputs": [
    {
     "name": "stderr",
     "output_type": "stream",
     "text": [
      "Batch labeling: 100%|██████████| 2/2 [00:09<00:00,  4.91s/it]\n"
     ]
    }
   ],
   "source": [
    "MODEL = \"gpt-4o-mini\"\n",
    "df = pd.read_csv(\"../Data/ishowspeed_chat_messages.csv\")\n",
    "\n",
    "for i in tqdm(range(0, len(df), batch_size), desc=\"Batch labeling\"):\n",
    "    batch_texts = df[\"message\"].iloc[i:i+batch_size].tolist()\n",
    "\n",
    "    # Construct the batch prompt\n",
    "    prompt = \"Classify each of the following chat messages as Offensive (1) or Not Offensive (0).\\n\"\n",
    "    prompt += \"Return only a Python-style list of 0s and 1s, in the same order.\\n\\n\"\n",
    "\n",
    "    for j, text in enumerate(batch_texts, start=1):\n",
    "        prompt += f\"{j}. {text}\\n\"\n",
    "\n",
    "    # Call OpenAI\n",
    "    response = client.chat.completions.create(\n",
    "        model=\"gpt-4o-mini\",\n",
    "        messages=[\n",
    "            {\"role\": \"system\", \"content\": \"You are a moderation classifier.\"},\n",
    "            {\"role\": \"user\", \"content\": prompt}\n",
    "        ],\n",
    "        temperature=0,\n",
    "    )\n",
    "\n",
    "    # Parse the output\n",
    "    output = response.choices[0].message.content.strip()\n",
    "    try:\n",
    "        # batch_labels = eval(output)  # risky but works if model outputs [0,1,0,...]\n",
    "        batch_labels = ast.literal_eval(output)  # safer\n",
    "    except:\n",
    "        # fallback if parsing fails\n",
    "        batch_labels = [int(x) for x in output.replace(\"[\",\"\").replace(\"]\",\"\").split(\",\")]\n",
    "\n",
    "    labels.extend(batch_labels)"
   ]
  },
  {
   "cell_type": "code",
   "execution_count": 11,
   "id": "e986fdb2",
   "metadata": {},
   "outputs": [],
   "source": [
    "df[\"label\"] = labels\n",
    "output_name = \"../Data/twitch_chat_labeled_by_GPT.csv\"\n",
    "df.to_csv(output_name, index=False)"
   ]
  },
  {
   "cell_type": "code",
   "execution_count": 12,
   "id": "c1360baa",
   "metadata": {},
   "outputs": [
    {
     "data": {
      "text/html": [
       "<div>\n",
       "<style scoped>\n",
       "    .dataframe tbody tr th:only-of-type {\n",
       "        vertical-align: middle;\n",
       "    }\n",
       "\n",
       "    .dataframe tbody tr th {\n",
       "        vertical-align: top;\n",
       "    }\n",
       "\n",
       "    .dataframe thead th {\n",
       "        text-align: right;\n",
       "    }\n",
       "</style>\n",
       "<table border=\"1\" class=\"dataframe\">\n",
       "  <thead>\n",
       "    <tr style=\"text-align: right;\">\n",
       "      <th></th>\n",
       "      <th>message</th>\n",
       "      <th>label</th>\n",
       "    </tr>\n",
       "  </thead>\n",
       "  <tbody>\n",
       "    <tr>\n",
       "      <th>60</th>\n",
       "      <td>nigga you need some pussy</td>\n",
       "      <td>1</td>\n",
       "    </tr>\n",
       "  </tbody>\n",
       "</table>\n",
       "</div>"
      ],
      "text/plain": [
       "                      message  label\n",
       "60  nigga you need some pussy      1"
      ]
     },
     "execution_count": 12,
     "metadata": {},
     "output_type": "execute_result"
    }
   ],
   "source": [
    "df[df['label'] == 1]"
   ]
  }
 ],
 "metadata": {
  "kernelspec": {
   "display_name": "bert_venv (3.13.3)",
   "language": "python",
   "name": "python3"
  },
  "language_info": {
   "codemirror_mode": {
    "name": "ipython",
    "version": 3
   },
   "file_extension": ".py",
   "mimetype": "text/x-python",
   "name": "python",
   "nbconvert_exporter": "python",
   "pygments_lexer": "ipython3",
   "version": "3.13.3"
  }
 },
 "nbformat": 4,
 "nbformat_minor": 5
}
