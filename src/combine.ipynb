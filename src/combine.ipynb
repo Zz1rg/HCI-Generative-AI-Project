{
 "cells": [
  {
   "cell_type": "code",
   "execution_count": 3,
   "id": "c1905468",
   "metadata": {},
   "outputs": [],
   "source": [
    "import os\n",
    "import pandas as pd\n",
    "\n",
    "data_folder = \"../data\"\n",
    "dfs = []\n",
    "\n",
    "for folder in os.listdir(data_folder):\n",
    "    folder_path = os.path.join(data_folder, folder)\n",
    "    if os.path.isdir(folder_path) and folder.startswith(\"twitch\"):\n",
    "        for file in os.listdir(folder_path):\n",
    "            if file.endswith(\".csv\"):\n",
    "                file_path = os.path.join(folder_path, file)\n",
    "                df = pd.read_csv(file_path)\n",
    "                dfs.append(df)\n",
    "\n",
    "combined_df = pd.concat(dfs, ignore_index=True)\n",
    "combined_df.to_csv(\"../data/combined_twitch_data.csv\", index=False)"
   ]
  }
 ],
 "metadata": {
  "kernelspec": {
   "display_name": "Python 3",
   "language": "python",
   "name": "python3"
  },
  "language_info": {
   "codemirror_mode": {
    "name": "ipython",
    "version": 3
   },
   "file_extension": ".py",
   "mimetype": "text/x-python",
   "name": "python",
   "nbconvert_exporter": "python",
   "pygments_lexer": "ipython3",
   "version": "3.13.7"
  }
 },
 "nbformat": 4,
 "nbformat_minor": 5
}
