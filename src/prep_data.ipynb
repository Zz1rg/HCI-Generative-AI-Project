{
 "cells": [
  {
   "cell_type": "code",
   "execution_count": 1,
   "id": "962184ea-c79a-4d65-bee8-20eba137f05b",
   "metadata": {},
   "outputs": [],
   "source": [
    "import pandas as pd\n",
    "\n",
    "data_path = '../Data'"
   ]
  },
  {
   "cell_type": "markdown",
   "id": "22c79452-c00d-4fe2-b5b4-4b5d587fc579",
   "metadata": {},
   "source": [
    "# hate_speech_and_offensive_language_dataset\n",
    "```\n",
    "class\n",
    "0 - hate\n",
    "1 - offensive\n",
    "2 - neither\n",
    "```"
   ]
  },
  {
   "cell_type": "code",
   "execution_count": 2,
   "id": "e8634dac-ecfc-43ae-9b66-cf368eb1bdd7",
   "metadata": {},
   "outputs": [
    {
     "name": "stdout",
     "output_type": "stream",
     "text": [
      "   Unnamed: 0  count  hate_speech  offensive_language  neither  class  \\\n",
      "0           0      3            0                   0        3      2   \n",
      "1           1      3            0                   3        0      1   \n",
      "2           2      3            0                   3        0      1   \n",
      "3           3      3            0                   2        1      1   \n",
      "4           4      6            0                   6        0      1   \n",
      "\n",
      "                                               tweet  \n",
      "0  !!! RT @mayasolovely: As a woman you shouldn't...  \n",
      "1  !!!!! RT @mleew17: boy dats cold...tyga dwn ba...  \n",
      "2  !!!!!!! RT @UrKindOfBrand Dawg!!!! RT @80sbaby...  \n",
      "3  !!!!!!!!! RT @C_G_Anderson: @viva_based she lo...  \n",
      "4  !!!!!!!!!!!!! RT @ShenikaRoberts: The shit you...  \n"
     ]
    }
   ],
   "source": [
    "dir_name = 'hate_speech_and_offensive_language_dataset'\n",
    "df = pd.read_csv(data_path + f'/{dir_name}/labeled_data.csv')\n",
    "print(df.head())"
   ]
  },
  {
   "cell_type": "code",
   "execution_count": 3,
   "id": "94cd6e30-9e1e-4f4c-b2db-a792aada7f98",
   "metadata": {},
   "outputs": [
    {
     "name": "stdout",
     "output_type": "stream",
     "text": [
      "                                                 message  label\n",
      "0      !!! RT @mayasolovely: As a woman you shouldn't...      0\n",
      "1      !!!!! RT @mleew17: boy dats cold...tyga dwn ba...      1\n",
      "2      !!!!!!! RT @UrKindOfBrand Dawg!!!! RT @80sbaby...      1\n",
      "3      !!!!!!!!! RT @C_G_Anderson: @viva_based she lo...      1\n",
      "4      !!!!!!!!!!!!! RT @ShenikaRoberts: The shit you...      1\n",
      "...                                                  ...    ...\n",
      "24778  you's a muthaf***in lie &#8220;@LifeAsKing: @2...      1\n",
      "24779  you've gone and broke the wrong heart baby, an...      0\n",
      "24780  young buck wanna eat!!.. dat nigguh like I ain...      1\n",
      "24781              youu got wild bitches tellin you lies      1\n",
      "24782  ~~Ruffled | Ntac Eileen Dahlia - Beautiful col...      0\n",
      "\n",
      "[24783 rows x 2 columns]\n",
      "                                              message  label\n",
      "0   !!! RT @mayasolovely: As a woman you shouldn't...      0\n",
      "1   !!!!! RT @mleew17: boy dats cold...tyga dwn ba...      1\n",
      "2   !!!!!!! RT @UrKindOfBrand Dawg!!!! RT @80sbaby...      1\n",
      "3   !!!!!!!!! RT @C_G_Anderson: @viva_based she lo...      1\n",
      "4   !!!!!!!!!!!!! RT @ShenikaRoberts: The shit you...      1\n",
      "5   !!!!!!!!!!!!!!!!!!\"@T_Madison_x: The shit just...      1\n",
      "6   !!!!!!\"@__BrighterDays: I can not just sit up ...      1\n",
      "7   !!!!&#8220;@selfiequeenbri: cause I'm tired of...      1\n",
      "8   \" &amp; you might not get ya bitch back &amp; ...      1\n",
      "9   \" @rhythmixx_ :hobbies include: fighting Maria...      1\n",
      "10  \" Keeks is a bitch she curves everyone \" lol I...      1\n",
      "11                 \" Murda Gang bitch its Gang Land \"      1\n",
      "12  \" So hoes that smoke are losers ? \" yea ... go...      1\n",
      "13      \" bad bitches is the only thing that i like \"      1\n",
      "14                            \" bitch get up off me \"      1\n",
      "15                    \" bitch nigga miss me with it \"      1\n",
      "16                             \" bitch plz whatever \"      1\n",
      "17                          \" bitch who do you love \"      1\n",
      "18                 \" bitches get cut off everyday B \"      1\n",
      "19                 \" black bottle &amp; a bad bitch \"      1\n"
     ]
    }
   ],
   "source": [
    "df['label'] = (df['class'] < 2).astype(int)\n",
    "df = df[['tweet', 'label']]\n",
    "df.rename(columns={'tweet': 'message'}, inplace=True)\n",
    "print(df)\n",
    "print(df.head(20))\n",
    "df.to_csv(data_path + f'/converted_{dir_name}/data.csv')"
   ]
  },
  {
   "cell_type": "markdown",
   "id": "481e167a-4fb8-4c22-83aa-a5f82fef00e2",
   "metadata": {},
   "source": [
    "# hate_speech_detection_curated_dataset"
   ]
  },
  {
   "cell_type": "code",
   "execution_count": 4,
   "id": "2d7a9d7c-7337-478a-afe3-d392adeb6ad8",
   "metadata": {},
   "outputs": [
    {
     "name": "stdout",
     "output_type": "stream",
     "text": [
      "                                             Content Label  \\\n",
      "0  denial of normal the con be asked to comment o...     1   \n",
      "1  just by being able to tweet this insufferable ...     1   \n",
      "2  that is retarded you too cute to be single tha...     1   \n",
      "3  thought of a real badass mongol style declarat...     1   \n",
      "4                                afro american basho     1   \n",
      "\n",
      "                                         Content_int  \n",
      "0  [146715, 0, 1, 2, 3, 4, 5, 6, 7, 8, 9, 10, 11,...  \n",
      "1  [146715, 14, 15, 16, 17, 7, 18, 19, 20, 21, 22...  \n",
      "2  [146715, 28, 29, 30, 26, 31, 32, 7, 5, 33, 28,...  \n",
      "3  [146715, 35, 1, 24, 36, 37, 38, 39, 40, 1, 41,...  \n",
      "4                       [146715, 46, 47, 48, 146714]  \n",
      "                                             Content  Label\n",
      "0  denial of normal the con be asked to comment o...      1\n",
      "1  just by being able to tweet this insufferable ...      1\n",
      "2  that is retarded you too cute to be single tha...      1\n",
      "3  thought of a real badass mongol style declarat...      1\n",
      "4                                afro american basho      1\n",
      "Label\n",
      "0        361594\n",
      "1         79305\n",
      "Label         7\n",
      "Name: count, dtype: int64\n",
      "Label\n",
      "1    364525\n",
      "0    361594\n",
      "Name: count, dtype: int64\n"
     ]
    }
   ],
   "source": [
    "dir_name = 'hate_speech_detection_curated_dataset' \n",
    "df1 = pd.read_csv(data_path + f'/{dir_name}/HateSpeechDataset.csv')\n",
    "df2 = pd.read_csv(data_path + f'/{dir_name}/HateSpeechDatasetBalanced.csv')\n",
    "print(df1.head())\n",
    "print(df2.head())\n",
    "print(df1['Label'].value_counts())\n",
    "print(df2['Label'].value_counts())"
   ]
  },
  {
   "cell_type": "code",
   "execution_count": 5,
   "id": "737de842-3f11-46d5-8b9e-6a87eaef989d",
   "metadata": {},
   "outputs": [],
   "source": [
    "df1.rename(columns={\"Content\": \"message\", \"Label\": \"label\"}, inplace=True)\n",
    "df2.rename(columns={\"Content\": \"message\", \"Label\": \"label\"}, inplace=True)\n",
    "df1 = df1[['message', 'label']]\n",
    "df2 = df2[['message', 'label']]\n",
    "df1.to_csv(data_path + f'/converted_{dir_name}/data.csv')\n",
    "df2.to_csv(data_path + f'/converted_{dir_name}/data_balanced.csv')"
   ]
  },
  {
   "cell_type": "code",
   "execution_count": 6,
   "id": "e01941e7-f64e-4576-94a7-026c50381766",
   "metadata": {},
   "outputs": [
    {
     "name": "stdout",
     "output_type": "stream",
     "text": [
      "label\n",
      "0        361594\n",
      "1         79305\n",
      "Label         7\n",
      "Name: count, dtype: int64\n",
      "label\n",
      "1    364525\n",
      "0    361594\n",
      "Name: count, dtype: int64\n"
     ]
    }
   ],
   "source": [
    "print(df1['label'].value_counts())\n",
    "print(df2['label'].value_counts())"
   ]
  },
  {
   "cell_type": "markdown",
   "id": "09bd86eb-7675-40c1-aa8c-776eed3e462e",
   "metadata": {},
   "source": [
    "# hate_speech_offensive"
   ]
  },
  {
   "cell_type": "code",
   "execution_count": 7,
   "id": "b75f06ae-9ad1-4068-9f44-3ef54ad1f2b2",
   "metadata": {},
   "outputs": [
    {
     "name": "stdout",
     "output_type": "stream",
     "text": [
      "<class 'pandas.core.frame.DataFrame'>\n",
      "RangeIndex: 24783 entries, 0 to 24782\n",
      "Data columns (total 6 columns):\n",
      " #   Column                    Non-Null Count  Dtype \n",
      "---  ------                    --------------  ----- \n",
      " 0   count                     24783 non-null  int64 \n",
      " 1   hate_speech_count         24783 non-null  int64 \n",
      " 2   offensive_language_count  24783 non-null  int64 \n",
      " 3   neither_count             24783 non-null  int64 \n",
      " 4   class                     24783 non-null  int64 \n",
      " 5   tweet                     24783 non-null  object\n",
      "dtypes: int64(5), object(1)\n",
      "memory usage: 1.1+ MB\n",
      "None\n"
     ]
    }
   ],
   "source": [
    "dir_name = 'hate_speech_offensive'\n",
    "df = pd.read_parquet(data_path + f'/{dir_name}/data/train-00000-of-00001.parquet')\n",
    "print(df.info())"
   ]
  },
  {
   "cell_type": "code",
   "execution_count": 8,
   "id": "7a974af8-7e5f-421d-81f9-b9906cc03c8a",
   "metadata": {},
   "outputs": [
    {
     "name": "stdout",
     "output_type": "stream",
     "text": [
      "                                              message  label\n",
      "0   !!! RT @mayasolovely: As a woman you shouldn't...      0\n",
      "1   !!!!! RT @mleew17: boy dats cold...tyga dwn ba...      1\n",
      "2   !!!!!!! RT @UrKindOfBrand Dawg!!!! RT @80sbaby...      1\n",
      "3   !!!!!!!!! RT @C_G_Anderson: @viva_based she lo...      1\n",
      "4   !!!!!!!!!!!!! RT @ShenikaRoberts: The shit you...      1\n",
      "5   !!!!!!!!!!!!!!!!!!\"@T_Madison_x: The shit just...      1\n",
      "6   !!!!!!\"@__BrighterDays: I can not just sit up ...      1\n",
      "7   !!!!&#8220;@selfiequeenbri: cause I'm tired of...      1\n",
      "8   \" &amp; you might not get ya bitch back &amp; ...      1\n",
      "9   \" @rhythmixx_ :hobbies include: fighting Maria...      1\n",
      "10  \" Keeks is a bitch she curves everyone \" lol I...      1\n",
      "11                 \" Murda Gang bitch its Gang Land \"      1\n",
      "12  \" So hoes that smoke are losers ? \" yea ... go...      1\n",
      "13      \" bad bitches is the only thing that i like \"      1\n",
      "14                            \" bitch get up off me \"      1\n",
      "15                    \" bitch nigga miss me with it \"      1\n",
      "16                             \" bitch plz whatever \"      1\n",
      "17                          \" bitch who do you love \"      1\n",
      "18                 \" bitches get cut off everyday B \"      1\n",
      "19                 \" black bottle &amp; a bad bitch \"      1\n"
     ]
    }
   ],
   "source": [
    "df['label'] = (df['class'] < 2).astype(int)\n",
    "df = df[['tweet', 'label']]\n",
    "df.rename(columns={'tweet': 'message'}, inplace=True)\n",
    "print(df.head(20))\n",
    "df.to_csv(data_path + f'/converted_{dir_name}/data.csv')"
   ]
  },
  {
   "cell_type": "markdown",
   "id": "18d52bb8-bc55-4d05-96c4-63029fc07a88",
   "metadata": {},
   "source": [
    "# hate_speech_twitter"
   ]
  },
  {
   "cell_type": "code",
   "execution_count": 9,
   "id": "477cf362-64fb-40d0-aae9-1c9ec787787c",
   "metadata": {},
   "outputs": [
    {
     "name": "stdout",
     "output_type": "stream",
     "text": [
      "                                               tweet  label  \\\n",
      "0  sad to hear the announcers say that \"it may ha...      0   \n",
      "1                Spazzies aren't welcome around here      1   \n",
      "2                             gay people need to die      1   \n",
      "3  the big screen is being fitted right now   #eu...      0   \n",
      "4  Why is it that African people smell weird? Do ...      1   \n",
      "\n",
      "           categories  \n",
      "0                 NaN  \n",
      "1          Disability  \n",
      "2  Sexual Orientation  \n",
      "3                 NaN  \n",
      "4                Race  \n",
      "                                               tweet  label categories\n",
      "0  krazy i dont always get drunk and pass out but...      0        NaN\n",
      "1  white kids favorite activities calling people ...      1       Race\n",
      "2  maam did you clear that tweet with the   caref...      0        NaN\n",
      "3  wth is that playing missy  i mean seriously rt...      0        NaN\n",
      "4           he promised to stand with the muzzies so      0        NaN\n"
     ]
    }
   ],
   "source": [
    "dir_name = 'hate_speech_twitter'\n",
    "df1 = pd.read_csv(data_path + f'/{dir_name}/testing set.csv')\n",
    "print(df1.head())\n",
    "df2 = pd.read_csv(data_path + f'/{dir_name}/training set.csv')\n",
    "print(df2.head())"
   ]
  },
  {
   "cell_type": "code",
   "execution_count": 10,
   "id": "3e558333-db33-4012-987e-b26a5514a81c",
   "metadata": {},
   "outputs": [],
   "source": [
    "df1.rename(columns={\"tweet\": \"message\", \"label\": \"label\"}, inplace=True)\n",
    "df2.rename(columns={\"tweet\": \"message\", \"label\": \"label\"}, inplace=True)\n",
    "df1 = df1[['message', 'label']]\n",
    "df2 = df2[['message', 'label']]\n",
    "df1.to_csv(data_path + f'/converted_{dir_name}/testing_data.csv')\n",
    "df2.to_csv(data_path + f'/converted_{dir_name}/training_data.csv')"
   ]
  },
  {
   "cell_type": "code",
   "execution_count": 11,
   "id": "7c515661-e498-46d7-950c-095a5e6ab1f9",
   "metadata": {},
   "outputs": [
    {
     "name": "stdout",
     "output_type": "stream",
     "text": [
      "                                             message  label\n",
      "0  sad to hear the announcers say that \"it may ha...      0\n",
      "1                Spazzies aren't welcome around here      1\n",
      "2                             gay people need to die      1\n",
      "3  the big screen is being fitted right now   #eu...      0\n",
      "4  Why is it that African people smell weird? Do ...      1\n",
      "                                             message  label\n",
      "0  krazy i dont always get drunk and pass out but...      0\n",
      "1  white kids favorite activities calling people ...      1\n",
      "2  maam did you clear that tweet with the   caref...      0\n",
      "3  wth is that playing missy  i mean seriously rt...      0\n",
      "4           he promised to stand with the muzzies so      0\n"
     ]
    }
   ],
   "source": [
    "print(df1.head())\n",
    "print(df2.head())"
   ]
  },
  {
   "cell_type": "code",
   "execution_count": null,
   "id": "864ec0f5-9a04-4cd2-a4da-9e6ce3434746",
   "metadata": {},
   "outputs": [],
   "source": []
  }
 ],
 "metadata": {
  "kernelspec": {
   "display_name": "Python 3 (ipykernel)",
   "language": "python",
   "name": "python3"
  },
  "language_info": {
   "codemirror_mode": {
    "name": "ipython",
    "version": 3
   },
   "file_extension": ".py",
   "mimetype": "text/x-python",
   "name": "python",
   "nbconvert_exporter": "python",
   "pygments_lexer": "ipython3",
   "version": "3.13.7"
  }
 },
 "nbformat": 4,
 "nbformat_minor": 5
}
