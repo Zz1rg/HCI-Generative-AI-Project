{
 "cells": [
  {
   "cell_type": "code",
   "execution_count": 6,
   "id": "962184ea-c79a-4d65-bee8-20eba137f05b",
   "metadata": {},
   "outputs": [],
   "source": [
    "import pandas as pd\n",
    "\n",
    "data_path = '../Data'"
   ]
  },
  {
   "cell_type": "markdown",
   "id": "22c79452-c00d-4fe2-b5b4-4b5d587fc579",
   "metadata": {},
   "source": [
    "# hate_speech_and_offensive_language_dataset\n",
    "```\n",
    "class\n",
    "0 - hate\n",
    "1 - offensive\n",
    "2 - neither\n",
    "```"
   ]
  },
  {
   "cell_type": "code",
   "execution_count": 12,
   "id": "e8634dac-ecfc-43ae-9b66-cf368eb1bdd7",
   "metadata": {},
   "outputs": [
    {
     "name": "stdout",
     "output_type": "stream",
     "text": [
      "   Unnamed: 0  count  hate_speech  offensive_language  neither  class  \\\n",
      "0           0      3            0                   0        3      2   \n",
      "1           1      3            0                   3        0      1   \n",
      "2           2      3            0                   3        0      1   \n",
      "3           3      3            0                   2        1      1   \n",
      "4           4      6            0                   6        0      1   \n",
      "\n",
      "                                               tweet  \n",
      "0  !!! RT @mayasolovely: As a woman you shouldn't...  \n",
      "1  !!!!! RT @mleew17: boy dats cold...tyga dwn ba...  \n",
      "2  !!!!!!! RT @UrKindOfBrand Dawg!!!! RT @80sbaby...  \n",
      "3  !!!!!!!!! RT @C_G_Anderson: @viva_based she lo...  \n",
      "4  !!!!!!!!!!!!! RT @ShenikaRoberts: The shit you...  \n"
     ]
    }
   ],
   "source": [
    "dir_name = 'hate_speech_and_offensive_language_dataset' \n",
    "df = pd.read_csv(data_path + f'/{dir_name}/labeled_data.csv')\n",
    "print(df.head())"
   ]
  },
  {
   "cell_type": "markdown",
   "id": "481e167a-4fb8-4c22-83aa-a5f82fef00e2",
   "metadata": {},
   "source": [
    "# hate_speech_detection_curated_dataset"
   ]
  },
  {
   "cell_type": "code",
   "execution_count": 8,
   "id": "2d7a9d7c-7337-478a-afe3-d392adeb6ad8",
   "metadata": {},
   "outputs": [
    {
     "name": "stdout",
     "output_type": "stream",
     "text": [
      "<class 'pandas.core.frame.DataFrame'>\n",
      "RangeIndex: 440906 entries, 0 to 440905\n",
      "Data columns (total 3 columns):\n",
      " #   Column       Non-Null Count   Dtype \n",
      "---  ------       --------------   ----- \n",
      " 0   Content      440906 non-null  object\n",
      " 1   Label        440906 non-null  object\n",
      " 2   Content_int  440906 non-null  object\n",
      "dtypes: object(3)\n",
      "memory usage: 10.1+ MB\n",
      "None\n",
      "<class 'pandas.core.frame.DataFrame'>\n",
      "RangeIndex: 726119 entries, 0 to 726118\n",
      "Data columns (total 2 columns):\n",
      " #   Column   Non-Null Count   Dtype \n",
      "---  ------   --------------   ----- \n",
      " 0   Content  726119 non-null  object\n",
      " 1   Label    726119 non-null  int64 \n",
      "dtypes: int64(1), object(1)\n",
      "memory usage: 11.1+ MB\n",
      "None\n"
     ]
    }
   ],
   "source": [
    "dir_name = 'hate_speech_detection_curated_dataset' \n",
    "df = pd.read_csv(data_path + f'/{dir_name}/HateSpeechDataset.csv')\n",
    "print(df.info())\n",
    "df = pd.read_csv(data_path + f'/{dir_name}/HateSpeechDatasetBalanced.csv')\n",
    "print(df.info())"
   ]
  },
  {
   "cell_type": "markdown",
   "id": "09bd86eb-7675-40c1-aa8c-776eed3e462e",
   "metadata": {},
   "source": [
    "# hate_speech_offensive"
   ]
  },
  {
   "cell_type": "code",
   "execution_count": 9,
   "id": "b75f06ae-9ad1-4068-9f44-3ef54ad1f2b2",
   "metadata": {},
   "outputs": [
    {
     "name": "stdout",
     "output_type": "stream",
     "text": [
      "<class 'pandas.core.frame.DataFrame'>\n",
      "RangeIndex: 24783 entries, 0 to 24782\n",
      "Data columns (total 6 columns):\n",
      " #   Column                    Non-Null Count  Dtype \n",
      "---  ------                    --------------  ----- \n",
      " 0   count                     24783 non-null  int64 \n",
      " 1   hate_speech_count         24783 non-null  int64 \n",
      " 2   offensive_language_count  24783 non-null  int64 \n",
      " 3   neither_count             24783 non-null  int64 \n",
      " 4   class                     24783 non-null  int64 \n",
      " 5   tweet                     24783 non-null  object\n",
      "dtypes: int64(5), object(1)\n",
      "memory usage: 1.1+ MB\n",
      "None\n"
     ]
    }
   ],
   "source": [
    "dir_name = 'hate_speech_offensive'\n",
    "df = pd.read_parquet(data_path + f'/{dir_name}/data/train-00000-of-00001.parquet')\n",
    "print(df.info())"
   ]
  },
  {
   "cell_type": "markdown",
   "id": "18d52bb8-bc55-4d05-96c4-63029fc07a88",
   "metadata": {},
   "source": [
    "# hate_speech_twitter"
   ]
  },
  {
   "cell_type": "code",
   "execution_count": 10,
   "id": "477cf362-64fb-40d0-aae9-1c9ec787787c",
   "metadata": {},
   "outputs": [
    {
     "name": "stdout",
     "output_type": "stream",
     "text": [
      "<class 'pandas.core.frame.DataFrame'>\n",
      "RangeIndex: 1000 entries, 0 to 999\n",
      "Data columns (total 3 columns):\n",
      " #   Column      Non-Null Count  Dtype \n",
      "---  ------      --------------  ----- \n",
      " 0   tweet       1000 non-null   object\n",
      " 1   label       1000 non-null   int64 \n",
      " 2   categories  500 non-null    object\n",
      "dtypes: int64(1), object(2)\n",
      "memory usage: 23.6+ KB\n",
      "None\n",
      "<class 'pandas.core.frame.DataFrame'>\n",
      "RangeIndex: 5679 entries, 0 to 5678\n",
      "Data columns (total 3 columns):\n",
      " #   Column      Non-Null Count  Dtype \n",
      "---  ------      --------------  ----- \n",
      " 0   tweet       5678 non-null   object\n",
      " 1   label       5679 non-null   int64 \n",
      " 2   categories  1516 non-null   object\n",
      "dtypes: int64(1), object(2)\n",
      "memory usage: 133.2+ KB\n",
      "None\n"
     ]
    }
   ],
   "source": [
    "dir_name = 'hate_speech_twitter'\n",
    "df = pd.read_csv(data_path + f'/{dir_name}/testing set.csv')\n",
    "print(df.info())\n",
    "df = pd.read_csv(data_path + f'/{dir_name}/training set.csv')\n",
    "print(df.info())"
   ]
  },
  {
   "cell_type": "code",
   "execution_count": null,
   "id": "3e558333-db33-4012-987e-b26a5514a81c",
   "metadata": {},
   "outputs": [],
   "source": []
  }
 ],
 "metadata": {
  "kernelspec": {
   "display_name": "Python 3 (ipykernel)",
   "language": "python",
   "name": "python3"
  },
  "language_info": {
   "codemirror_mode": {
    "name": "ipython",
    "version": 3
   },
   "file_extension": ".py",
   "mimetype": "text/x-python",
   "name": "python",
   "nbconvert_exporter": "python",
   "pygments_lexer": "ipython3",
   "version": "3.13.7"
  }
 },
 "nbformat": 4,
 "nbformat_minor": 5
}
